{
 "cells": [
  {
   "cell_type": "code",
   "execution_count": 1,
   "id": "0d025d0c",
   "metadata": {},
   "outputs": [],
   "source": [
    "# Import scraping tools\n",
    "from splinter import Browser\n",
    "from bs4 import BeautifulSoup as soup\n",
    "from webdriver_manager.chrome import ChromeDriverManager"
   ]
  },
  {
   "cell_type": "code",
   "execution_count": 2,
   "id": "0b07af02",
   "metadata": {},
   "outputs": [],
   "source": [
    "# Set the executable path\n",
    "executable_path = {'executable_path': ChromeDriverManager().install()}\n",
    "browser = Browser('chrome', **executable_path, headless=False)"
   ]
  },
  {
   "cell_type": "code",
   "execution_count": 3,
   "id": "ec9fe982",
   "metadata": {},
   "outputs": [
    {
     "data": {
      "text/plain": [
       "True"
      ]
     },
     "execution_count": 3,
     "metadata": {},
     "output_type": "execute_result"
    }
   ],
   "source": [
    "# Visit the Mars NASA news site\n",
    "url = 'https://redplanetscience.com/'\n",
    "browser.visit(url)\n",
    "# Optional delay for loading the page\n",
    "browser.is_element_present_by_css('div.list_text', wait_time=1)"
   ]
  },
  {
   "cell_type": "code",
   "execution_count": 4,
   "id": "58c9bba5",
   "metadata": {},
   "outputs": [],
   "source": [
    "# Setup the HTML Parser\n",
    "html = browser.html\n",
    "news_soup = soup(html, 'html.parser')"
   ]
  },
  {
   "cell_type": "code",
   "execution_count": 5,
   "id": "7b51ac06",
   "metadata": {},
   "outputs": [],
   "source": [
    "# Select all the news titles\n",
    "news_titles = news_soup.select('div.content_title')"
   ]
  },
  {
   "cell_type": "code",
   "execution_count": 6,
   "id": "74ffd4b5",
   "metadata": {},
   "outputs": [],
   "source": [
    "# Select all the news previews\n",
    "news_previews = news_soup.select('div.article_teaser_body')"
   ]
  },
  {
   "cell_type": "code",
   "execution_count": 7,
   "id": "6cf60cfb",
   "metadata": {},
   "outputs": [
    {
     "name": "stdout",
     "output_type": "stream",
     "text": [
      "{'Title': \"NASA's Mars 2020 Will Hunt for Microscopic Fossils\", 'Preview': \"A new paper identifies a ring of minerals at the rover's landing site that are ideal for fossilizing microbial life.\"}\n",
      "    \n",
      "{'Title': \"NASA's Perseverance Rover Is Midway to Mars \", 'Preview': \"Sometimes half measures can be a good thing – especially on a journey this long. The agency's latest rover only has about 146 million miles left to reach its destination.\"}\n",
      "    \n",
      "{'Title': 'NASA Prepares for Moon and Mars With New Addition to Its Deep Space Network', 'Preview': 'Robotic spacecraft will be able to communicate with the dish using radio waves and lasers.'}\n",
      "    \n",
      "{'Title': \"Air Deliveries Bring NASA's Perseverance Mars Rover Closer to Launch\", 'Preview': \"A NASA Wallops Flight Facility cargo plane transported more than two tons of equipment — including the rover's sample collection tubes — to Florida for this summer's liftoff.\"}\n",
      "    \n",
      "{'Title': 'Sensors on Mars 2020 Spacecraft Answer Long-Distance Call From Earth', 'Preview': \"Instruments tailored to collect data during the descent of NASA's next rover through the Red Planet's atmosphere have been checked in flight.\"}\n",
      "    \n",
      "{'Title': 'MOXIE Could Help Future Rockets Launch Off Mars', 'Preview': \"NASA's Perseverance rover carries a device to convert Martian air into oxygen that, if produced on a larger scale, could be used not just for breathing, but also for fuel.\"}\n",
      "    \n",
      "{'Title': \"Celebrate Mars Reconnaissance Orbiter's Views From Above\", 'Preview': 'Marking its 15th anniversary since launch, one of the oldest spacecraft at the Red Planet has provided glimpses of dust devils, avalanches, and more.'}\n",
      "    \n",
      "{'Title': \"3 Things We've Learned From NASA's Mars InSight \", 'Preview': 'Scientists are finding new mysteries since the geophysics mission landed two years ago.'}\n",
      "    \n",
      "{'Title': \"NASA-JPL Names 'Rolling Stones Rock' on Mars\", 'Preview': \"NASA's Mars InSight mission honored one of the biggest bands of all time at Pasadena concert.\"}\n",
      "    \n",
      "{'Title': \"NASA's Perseverance Rover Mission Getting in Shape for Launch\", 'Preview': 'Stacking spacecraft components on top of each other is one of the final assembly steps before a mission launches to the Red Planet. '}\n",
      "    \n",
      "{'Title': 'NASA Moves Forward With Campaign to Return Mars Samples to Earth', 'Preview': 'During this next phase, the program will mature critical technologies and make critical design decisions as well as assess industry partnerships.'}\n",
      "    \n",
      "{'Title': 'NASA Invites Public to Share Excitement of Mars 2020 Perseverance Rover Launch', 'Preview': 'There are lots of ways to participate in the historic event, which is targeted for July 30.'}\n",
      "    \n",
      "{'Title': 'The MarCO Mission Comes to an End', 'Preview': 'The pair of briefcase-sized satellites made history when they sailed past Mars in 2019.'}\n",
      "    \n",
      "{'Title': \"NASA's Mars Perseverance Rover Passes Flight Readiness Review\", 'Preview': \"\\u200bThe agency's Mars 2020 mission has one more big prelaunch review – the Launch Readiness Review, on July 27.\"}\n",
      "    \n",
      "{'Title': 'Scientists Explore Outback as Testbed for Mars ', 'Preview': \"Australia provides a great place for NASA's Mars 2020 and the ESA-Roscosmos ExoMars scientists to hone techniques in preparation for searching for signs ancient life on Mars.\"}\n",
      "    \n"
     ]
    }
   ],
   "source": [
    "# Create a dictionary and store the dictionary in a python list\n",
    "news_list = []\n",
    "for i in range(len(news_titles)):\n",
    "    news_dict = {}\n",
    "    news_dict = {'Title':news_titles[i].text, 'Preview':news_previews[i].text}\n",
    "    print(f'''{news_dict}\n",
    "    ''')\n",
    "    news_list.append(news_dict)"
   ]
  },
  {
   "cell_type": "code",
   "execution_count": 8,
   "id": "87e76472",
   "metadata": {},
   "outputs": [
    {
     "data": {
      "text/plain": [
       "[{'Title': \"NASA's Mars 2020 Will Hunt for Microscopic Fossils\",\n",
       "  'Preview': \"A new paper identifies a ring of minerals at the rover's landing site that are ideal for fossilizing microbial life.\"},\n",
       " {'Title': \"NASA's Perseverance Rover Is Midway to Mars \",\n",
       "  'Preview': \"Sometimes half measures can be a good thing – especially on a journey this long. The agency's latest rover only has about 146 million miles left to reach its destination.\"},\n",
       " {'Title': 'NASA Prepares for Moon and Mars With New Addition to Its Deep Space Network',\n",
       "  'Preview': 'Robotic spacecraft will be able to communicate with the dish using radio waves and lasers.'},\n",
       " {'Title': \"Air Deliveries Bring NASA's Perseverance Mars Rover Closer to Launch\",\n",
       "  'Preview': \"A NASA Wallops Flight Facility cargo plane transported more than two tons of equipment — including the rover's sample collection tubes — to Florida for this summer's liftoff.\"},\n",
       " {'Title': 'Sensors on Mars 2020 Spacecraft Answer Long-Distance Call From Earth',\n",
       "  'Preview': \"Instruments tailored to collect data during the descent of NASA's next rover through the Red Planet's atmosphere have been checked in flight.\"},\n",
       " {'Title': 'MOXIE Could Help Future Rockets Launch Off Mars',\n",
       "  'Preview': \"NASA's Perseverance rover carries a device to convert Martian air into oxygen that, if produced on a larger scale, could be used not just for breathing, but also for fuel.\"},\n",
       " {'Title': \"Celebrate Mars Reconnaissance Orbiter's Views From Above\",\n",
       "  'Preview': 'Marking its 15th anniversary since launch, one of the oldest spacecraft at the Red Planet has provided glimpses of dust devils, avalanches, and more.'},\n",
       " {'Title': \"3 Things We've Learned From NASA's Mars InSight \",\n",
       "  'Preview': 'Scientists are finding new mysteries since the geophysics mission landed two years ago.'},\n",
       " {'Title': \"NASA-JPL Names 'Rolling Stones Rock' on Mars\",\n",
       "  'Preview': \"NASA's Mars InSight mission honored one of the biggest bands of all time at Pasadena concert.\"},\n",
       " {'Title': \"NASA's Perseverance Rover Mission Getting in Shape for Launch\",\n",
       "  'Preview': 'Stacking spacecraft components on top of each other is one of the final assembly steps before a mission launches to the Red Planet. '},\n",
       " {'Title': 'NASA Moves Forward With Campaign to Return Mars Samples to Earth',\n",
       "  'Preview': 'During this next phase, the program will mature critical technologies and make critical design decisions as well as assess industry partnerships.'},\n",
       " {'Title': 'NASA Invites Public to Share Excitement of Mars 2020 Perseverance Rover Launch',\n",
       "  'Preview': 'There are lots of ways to participate in the historic event, which is targeted for July 30.'},\n",
       " {'Title': 'The MarCO Mission Comes to an End',\n",
       "  'Preview': 'The pair of briefcase-sized satellites made history when they sailed past Mars in 2019.'},\n",
       " {'Title': \"NASA's Mars Perseverance Rover Passes Flight Readiness Review\",\n",
       "  'Preview': \"\\u200bThe agency's Mars 2020 mission has one more big prelaunch review – the Launch Readiness Review, on July 27.\"},\n",
       " {'Title': 'Scientists Explore Outback as Testbed for Mars ',\n",
       "  'Preview': \"Australia provides a great place for NASA's Mars 2020 and the ESA-Roscosmos ExoMars scientists to hone techniques in preparation for searching for signs ancient life on Mars.\"}]"
      ]
     },
     "execution_count": 8,
     "metadata": {},
     "output_type": "execute_result"
    }
   ],
   "source": [
    "# Print the list in your Python Notebook\n",
    "news_list"
   ]
  },
  {
   "cell_type": "code",
   "execution_count": 10,
   "id": "87fe00a0",
   "metadata": {},
   "outputs": [
    {
     "data": {
      "text/html": [
       "<div>\n",
       "<style scoped>\n",
       "    .dataframe tbody tr th:only-of-type {\n",
       "        vertical-align: middle;\n",
       "    }\n",
       "\n",
       "    .dataframe tbody tr th {\n",
       "        vertical-align: top;\n",
       "    }\n",
       "\n",
       "    .dataframe thead th {\n",
       "        text-align: right;\n",
       "    }\n",
       "</style>\n",
       "<table border=\"1\" class=\"dataframe\">\n",
       "  <thead>\n",
       "    <tr style=\"text-align: right;\">\n",
       "      <th></th>\n",
       "      <th>Title</th>\n",
       "      <th>Preview</th>\n",
       "    </tr>\n",
       "  </thead>\n",
       "  <tbody>\n",
       "    <tr>\n",
       "      <th>0</th>\n",
       "      <td>NASA's Mars 2020 Will Hunt for Microscopic Fos...</td>\n",
       "      <td>A new paper identifies a ring of minerals at t...</td>\n",
       "    </tr>\n",
       "    <tr>\n",
       "      <th>1</th>\n",
       "      <td>NASA's Perseverance Rover Is Midway to Mars</td>\n",
       "      <td>Sometimes half measures can be a good thing – ...</td>\n",
       "    </tr>\n",
       "    <tr>\n",
       "      <th>2</th>\n",
       "      <td>NASA Prepares for Moon and Mars With New Addit...</td>\n",
       "      <td>Robotic spacecraft will be able to communicate...</td>\n",
       "    </tr>\n",
       "    <tr>\n",
       "      <th>3</th>\n",
       "      <td>Air Deliveries Bring NASA's Perseverance Mars ...</td>\n",
       "      <td>A NASA Wallops Flight Facility cargo plane tra...</td>\n",
       "    </tr>\n",
       "    <tr>\n",
       "      <th>4</th>\n",
       "      <td>Sensors on Mars 2020 Spacecraft Answer Long-Di...</td>\n",
       "      <td>Instruments tailored to collect data during th...</td>\n",
       "    </tr>\n",
       "    <tr>\n",
       "      <th>5</th>\n",
       "      <td>MOXIE Could Help Future Rockets Launch Off Mars</td>\n",
       "      <td>NASA's Perseverance rover carries a device to ...</td>\n",
       "    </tr>\n",
       "    <tr>\n",
       "      <th>6</th>\n",
       "      <td>Celebrate Mars Reconnaissance Orbiter's Views ...</td>\n",
       "      <td>Marking its 15th anniversary since launch, one...</td>\n",
       "    </tr>\n",
       "    <tr>\n",
       "      <th>7</th>\n",
       "      <td>3 Things We've Learned From NASA's Mars InSight</td>\n",
       "      <td>Scientists are finding new mysteries since the...</td>\n",
       "    </tr>\n",
       "    <tr>\n",
       "      <th>8</th>\n",
       "      <td>NASA-JPL Names 'Rolling Stones Rock' on Mars</td>\n",
       "      <td>NASA's Mars InSight mission honored one of the...</td>\n",
       "    </tr>\n",
       "    <tr>\n",
       "      <th>9</th>\n",
       "      <td>NASA's Perseverance Rover Mission Getting in S...</td>\n",
       "      <td>Stacking spacecraft components on top of each ...</td>\n",
       "    </tr>\n",
       "    <tr>\n",
       "      <th>10</th>\n",
       "      <td>NASA Moves Forward With Campaign to Return Mar...</td>\n",
       "      <td>During this next phase, the program will matur...</td>\n",
       "    </tr>\n",
       "    <tr>\n",
       "      <th>11</th>\n",
       "      <td>NASA Invites Public to Share Excitement of Mar...</td>\n",
       "      <td>There are lots of ways to participate in the h...</td>\n",
       "    </tr>\n",
       "    <tr>\n",
       "      <th>12</th>\n",
       "      <td>The MarCO Mission Comes to an End</td>\n",
       "      <td>The pair of briefcase-sized satellites made hi...</td>\n",
       "    </tr>\n",
       "    <tr>\n",
       "      <th>13</th>\n",
       "      <td>NASA's Mars Perseverance Rover Passes Flight R...</td>\n",
       "      <td>​The agency's Mars 2020 mission has one more b...</td>\n",
       "    </tr>\n",
       "    <tr>\n",
       "      <th>14</th>\n",
       "      <td>Scientists Explore Outback as Testbed for Mars</td>\n",
       "      <td>Australia provides a great place for NASA's Ma...</td>\n",
       "    </tr>\n",
       "  </tbody>\n",
       "</table>\n",
       "</div>"
      ],
      "text/plain": [
       "                                                Title  \\\n",
       "0   NASA's Mars 2020 Will Hunt for Microscopic Fos...   \n",
       "1        NASA's Perseverance Rover Is Midway to Mars    \n",
       "2   NASA Prepares for Moon and Mars With New Addit...   \n",
       "3   Air Deliveries Bring NASA's Perseverance Mars ...   \n",
       "4   Sensors on Mars 2020 Spacecraft Answer Long-Di...   \n",
       "5     MOXIE Could Help Future Rockets Launch Off Mars   \n",
       "6   Celebrate Mars Reconnaissance Orbiter's Views ...   \n",
       "7    3 Things We've Learned From NASA's Mars InSight    \n",
       "8        NASA-JPL Names 'Rolling Stones Rock' on Mars   \n",
       "9   NASA's Perseverance Rover Mission Getting in S...   \n",
       "10  NASA Moves Forward With Campaign to Return Mar...   \n",
       "11  NASA Invites Public to Share Excitement of Mar...   \n",
       "12                  The MarCO Mission Comes to an End   \n",
       "13  NASA's Mars Perseverance Rover Passes Flight R...   \n",
       "14    Scientists Explore Outback as Testbed for Mars    \n",
       "\n",
       "                                              Preview  \n",
       "0   A new paper identifies a ring of minerals at t...  \n",
       "1   Sometimes half measures can be a good thing – ...  \n",
       "2   Robotic spacecraft will be able to communicate...  \n",
       "3   A NASA Wallops Flight Facility cargo plane tra...  \n",
       "4   Instruments tailored to collect data during th...  \n",
       "5   NASA's Perseverance rover carries a device to ...  \n",
       "6   Marking its 15th anniversary since launch, one...  \n",
       "7   Scientists are finding new mysteries since the...  \n",
       "8   NASA's Mars InSight mission honored one of the...  \n",
       "9   Stacking spacecraft components on top of each ...  \n",
       "10  During this next phase, the program will matur...  \n",
       "11  There are lots of ways to participate in the h...  \n",
       "12  The pair of briefcase-sized satellites made hi...  \n",
       "13  ​The agency's Mars 2020 mission has one more b...  \n",
       "14  Australia provides a great place for NASA's Ma...  "
      ]
     },
     "execution_count": 10,
     "metadata": {},
     "output_type": "execute_result"
    }
   ],
   "source": [
    "# Display your results in a pandas Dataframe\n",
    "import pandas as pd\n",
    "news_df = pd.DataFrame(news_list)\n",
    "news_df"
   ]
  },
  {
   "cell_type": "code",
   "execution_count": null,
   "id": "854f89e2",
   "metadata": {},
   "outputs": [],
   "source": []
  }
 ],
 "metadata": {
  "kernelspec": {
   "display_name": "Python 3 (ipykernel)",
   "language": "python",
   "name": "python3"
  },
  "language_info": {
   "codemirror_mode": {
    "name": "ipython",
    "version": 3
   },
   "file_extension": ".py",
   "mimetype": "text/x-python",
   "name": "python",
   "nbconvert_exporter": "python",
   "pygments_lexer": "ipython3",
   "version": "3.9.12"
  }
 },
 "nbformat": 4,
 "nbformat_minor": 5
}
